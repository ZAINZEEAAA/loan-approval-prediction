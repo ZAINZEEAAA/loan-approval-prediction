{
  "nbformat": 4,
  "nbformat_minor": 0,
  "metadata": {
    "colab": {
      "provenance": []
    },
    "kernelspec": {
      "name": "python3",
      "display_name": "Python 3"
    },
    "language_info": {
      "name": "python"
    }
  },
  "cells": [
    {
      "cell_type": "code",
      "source": [
        "import os\n",
        "import re\n",
        "import joblib\n",
        "import numpy as np\n",
        "import pandas as pd\n",
        "import matplotlib.pyplot as plt\n",
        "from typing import Optional, List, Tuple\n",
        "from sklearn.model_selection import train_test_split\n",
        "from sklearn.compose import ColumnTransformer\n",
        "from sklearn.preprocessing import OneHotEncoder, StandardScaler\n",
        "from sklearn.impute import SimpleImputer\n",
        "from sklearn.pipeline import Pipeline\n",
        "from sklearn.metrics import (\n",
        "    accuracy_score, precision_score, recall_score, f1_score,\n",
        "    roc_auc_score, confusion_matrix, roc_curve, RocCurveDisplay\n",
        ")\n",
        "from sklearn.linear_model import LogisticRegression\n",
        "from sklearn.ensemble import RandomForestClassifier, HistGradientBoostingClassifier"
      ],
      "metadata": {
        "id": "z2E_zZBGlEAh"
      },
      "execution_count": 116,
      "outputs": []
    },
    {
      "cell_type": "code",
      "source": [
        "DATA_PATH = \"/content/loan_approval_dataset (1).csv\""
      ],
      "metadata": {
        "id": "2-x1YbewlKHQ"
      },
      "execution_count": 117,
      "outputs": []
    },
    {
      "cell_type": "code",
      "source": [
        "TARGET_COL: Optional[str] = None"
      ],
      "metadata": {
        "id": "wrTlROTWlQJL"
      },
      "execution_count": 118,
      "outputs": []
    },
    {
      "cell_type": "code",
      "source": [
        "OUTPUT_DIR = \"loan_project_outputs\"\n",
        "os.makedirs(OUTPUT_DIR, exist_ok=True)"
      ],
      "metadata": {
        "id": "QN-fTV8plTQq"
      },
      "execution_count": 119,
      "outputs": []
    },
    {
      "cell_type": "code",
      "source": [
        "def detect_feature_types(df: pd.DataFrame) -> Tuple[List[str], List[str]]:\n",
        "    num_cols = df.select_dtypes(include=[np.number]).columns.tolist()\n",
        "    cat_cols = df.select_dtypes(include=[\"object\", \"category\", \"bool\"]).columns.tolist()\n",
        "    return num_cols, cat_cols\n",
        "\n",
        "def guess_target_column(df: pd.DataFrame) -> Optional[str]:\n",
        "    \"\"\"Heuristic: try common names, else a small-cardinality column near the end.\"\"\"\n",
        "    name_candidates = [\n",
        "        \"loan_status\",\"loanstatus\",\"status\",\"approval_status\",\"approved\",\"is_approved\",\n",
        "        \"loan_approval_status\",\"loan_approved\",\"decision\",\"target\",\"label\",\"outcome\",\n",
        "        \"result\",\"class\",\"Loan_Status\",\"LoanStatus\",\"Approval_Status\",\"Approved\"\n",
        "    ]\n",
        "    lower_map = {c.lower(): c for c in df.columns}\n",
        "    for nm in name_candidates:\n",
        "        if nm in lower_map:\n",
        "            return lower_map[nm]\n",
        "    cand = []\n",
        "    for c in df.columns:\n",
        "        if re.search(r\"id$|^id$|^index$|^serial|^sr_no|^sno|^no$\", c, re.I):\n",
        "            continue\n",
        "        nun = df[c].nunique(dropna=True)\n",
        "        if 2 <= nun <= 10:\n",
        "            cand.append(c)\n",
        "    if cand:\n",
        "        return cand[-1]\n",
        "    last = df.columns[-1]\n",
        "    if df[last].nunique(dropna=True) <= 10:\n",
        "        return last\n",
        "    return None\n",
        "\n",
        "def safe_plot_save(fig_path: str):\n",
        "    plt.tight_layout()\n",
        "    plt.savefig(fig_path, dpi=150)\n",
        "    plt.close()"
      ],
      "metadata": {
        "id": "vAdVaZPolZpq"
      },
      "execution_count": 120,
      "outputs": []
    },
    {
      "cell_type": "code",
      "source": [
        "print(\"Loading dataset from:\", DATA_PATH)\n",
        "df = pd.read_csv(DATA_PATH, encoding=\"utf-8\", engine=\"python\")\n",
        "print(\"Shape:\", df.shape)\n",
        "print(\"Columns:\", list(df.columns))\n",
        "\n",
        "# Show basic missing values overview\n",
        "missing = df.isna().sum().sort_values(ascending=False).to_frame(\"missing_count\")\n",
        "missing[\"missing_pct\"] = (missing[\"missing_count\"] / len(df) * 100).round(2)\n",
        "missing.to_csv(os.path.join(OUTPUT_DIR, \"missing_values_summary.csv\"))"
      ],
      "metadata": {
        "colab": {
          "base_uri": "https://localhost:8080/"
        },
        "id": "1Ak3Ee9Klfj8",
        "outputId": "d5b48085-04b7-46e5-caa6-ad22c9f8c878"
      },
      "execution_count": 121,
      "outputs": [
        {
          "output_type": "stream",
          "name": "stdout",
          "text": [
            "Loading dataset from: /content/loan_approval_dataset (1).csv\n",
            "Shape: (4269, 13)\n",
            "Columns: ['loan_id', ' no_of_dependents', ' education', ' self_employed', ' income_annum', ' loan_amount', ' loan_term', ' cibil_score', ' residential_assets_value', ' commercial_assets_value', ' luxury_assets_value', ' bank_asset_value', ' loan_status']\n"
          ]
        }
      ]
    },
    {
      "cell_type": "code",
      "source": [
        "num_cols, cat_cols = detect_feature_types(df)"
      ],
      "metadata": {
        "id": "dN0JsBKglk2m"
      },
      "execution_count": 122,
      "outputs": []
    },
    {
      "cell_type": "code",
      "source": [
        "for col in num_cols[:6]:\n",
        "    plt.figure()\n",
        "    df[col].dropna().plot(kind=\"hist\", bins=30, title=f\"Histogram: {col}\")\n",
        "    plt.xlabel(col); plt.ylabel(\"Frequency\")\n",
        "    safe_plot_save(os.path.join(OUTPUT_DIR, f\"hist_{col}.png\"))"
      ],
      "metadata": {
        "id": "2DqcTdUmloL2"
      },
      "execution_count": 123,
      "outputs": []
    },
    {
      "cell_type": "code",
      "source": [
        "for col in cat_cols[:6]:\n",
        "    plt.figure()\n",
        "    df[col].astype(str).value_counts(dropna=False).head(20).plot(\n",
        "        kind=\"bar\", title=f\"Top categories: {col}\"\n",
        "    )\n",
        "    plt.xlabel(col); plt.ylabel(\"Count\")\n",
        "    safe_plot_save(os.path.join(OUTPUT_DIR, f\"bar_{col}.png\"))"
      ],
      "metadata": {
        "id": "QBtwGojtlq62"
      },
      "execution_count": 124,
      "outputs": []
    },
    {
      "cell_type": "code",
      "source": [
        "if num_cols:\n",
        "    corr = df[num_cols].corr(numeric_only=True)\n",
        "    plt.figure(figsize=(6,5))\n",
        "    plt.imshow(corr, interpolation=\"nearest\")\n",
        "    plt.title(\"Correlation Heatmap (Numeric Features)\")\n",
        "    plt.xticks(range(len(num_cols)), num_cols, rotation=90)\n",
        "    plt.yticks(range(len(num_cols)), num_cols)\n",
        "    plt.colorbar()\n",
        "    safe_plot_save(os.path.join(OUTPUT_DIR, \"correlation_heatmap.png\"))"
      ],
      "metadata": {
        "id": "11hjSNs3lvhk"
      },
      "execution_count": 125,
      "outputs": []
    },
    {
      "cell_type": "code",
      "source": [
        "# Detect/confirm target\n",
        "target = TARGET_COL if TARGET_COL else guess_target_column(df)\n",
        "print(\"Detected target column:\", target)\n",
        "\n",
        "if target is not None:\n",
        "    plt.figure()\n",
        "    df[target].value_counts(dropna=False).plot(kind=\"bar\", title=f\"Target Distribution: {target}\")\n",
        "    plt.xlabel(target); plt.ylabel(\"Count\")\n",
        "    safe_plot_save(os.path.join(OUTPUT_DIR, \"target_distribution.png\"))\n",
        "else:\n",
        "    # If not found, suggest likely candidates\n",
        "    small_card = [c for c in df.columns if 2 <= df[c].nunique(dropna=True) <= 10]\n",
        "    print(\"⚠ No clear target found. Set TARGET_COL manually.\")\n",
        "    print(\"Small-cardinality candidates (2..10 unique):\", small_card)\n",
        "    # Exit early so you can set TARGET_COL\n",
        "    raise SystemExit(0)\n",
        "\n"
      ],
      "metadata": {
        "colab": {
          "base_uri": "https://localhost:8080/"
        },
        "id": "QPGkvQE_lz6E",
        "outputId": "885f4a3d-7750-44c0-885f-9965550edc47"
      },
      "execution_count": 126,
      "outputs": [
        {
          "output_type": "stream",
          "name": "stdout",
          "text": [
            "Detected target column:  loan_status\n"
          ]
        }
      ]
    },
    {
      "cell_type": "code",
      "source": [
        "# -------- Step 3) Preprocessing (numeric + categorical) --------\n",
        "df_model = df.dropna(subset=[target]).copy()\n",
        "X = df_model.drop(columns=[target])\n",
        "y = df_model[target]\n",
        "\n",
        "num_cols_X = X.select_dtypes(include=[np.number]).columns.tolist()\n",
        "cat_cols_X = X.select_dtypes(include=[\"object\",\"category\",\"bool\"]).columns.tolist()\n",
        "\n",
        "numeric_transformer = Pipeline(steps=[\n",
        "    (\"imputer\", SimpleImputer(strategy=\"median\")),\n",
        "    (\"scaler\", StandardScaler())\n",
        "])\n",
        "categorical_transformer = Pipeline(steps=[\n",
        "    (\"imputer\", SimpleImputer(strategy=\"most_frequent\")),\n",
        "    (\"onehot\", OneHotEncoder(handle_unknown=\"ignore\"))\n",
        "])\n",
        "\n",
        "preprocessor = ColumnTransformer(transformers=[\n",
        "    (\"num\", numeric_transformer, num_cols_X),\n",
        "    (\"cat\", categorical_transformer, cat_cols_X),\n",
        "])\n",
        "\n",
        "\n",
        "# -------- Step 4) Train/Test Split --------\n",
        "X_train, X_test, y_train, y_test = train_test_split(\n",
        "    X, y, test_size=0.2, random_state=42, stratify=y\n",
        ")\n",
        "classes = np.unique(y_train)\n",
        "is_binary = len(classes) == 2"
      ],
      "metadata": {
        "id": "sTgGW7xPl7cC"
      },
      "execution_count": 127,
      "outputs": []
    },
    {
      "cell_type": "code",
      "source": [
        "# -------- Step 5) Define Models --------\n",
        "models = {\n",
        "    \"Logistic Regression\": LogisticRegression(max_iter=1000),\n",
        "    \"Random Forest\": RandomForestClassifier(n_estimators=300, random_state=42),\n",
        "    \"HistGradientBoosting\": HistGradientBoostingClassifier(random_state=42)\n",
        "}\n",
        "\n",
        "\n",
        "# -------- Step 6) Train + Evaluate --------\n",
        "def evaluate_model(name: str, pipe: Pipeline) -> dict:\n",
        "    pipe.fit(X_train, y_train)\n",
        "    y_pred = pipe.predict(X_test)\n",
        "\n",
        "    row = {\n",
        "        \"model\": name,\n",
        "        \"accuracy\": accuracy_score(y_test, y_pred),\n",
        "        \"precision_macro\": precision_score(y_test, y_pred, average=\"macro\", zero_division=0),\n",
        "        \"recall_macro\": recall_score(y_test, y_pred, average=\"macro\", zero_division=0),\n",
        "        \"f1_macro\": f1_score(y_test, y_pred, average=\"macro\", zero_division=0),\n",
        "        \"roc_auc_ovr\": np.nan\n",
        "    }\n",
        "\n",
        "    # Confusion Matrix\n",
        "    cm = confusion_matrix(y_test, y_pred, labels=classes)\n",
        "    plt.figure()\n",
        "    plt.imshow(cm, interpolation=\"nearest\")\n",
        "    plt.title(f\"Confusion Matrix: {name}\")\n",
        "    plt.xticks(range(len(classes)), classes, rotation=45, ha=\"right\")\n",
        "    plt.yticks(range(len(classes)), classes)\n",
        "    for i in range(cm.shape[0]):\n",
        "        for j in range(cm.shape[1]):\n",
        "            plt.text(j, i, cm[i, j], ha=\"center\", va=\"center\")\n",
        "    plt.ylabel(\"True label\"); plt.xlabel(\"Predicted label\")\n",
        "    safe_plot_save(os.path.join(OUTPUT_DIR, f\"cm_{name.replace(' ', '_').lower()}.png\"))\n",
        "\n",
        "    # ROC curve (binary only + needs predict_proba)\n",
        "    if is_binary and hasattr(pipe, \"predict_proba\"):\n",
        "        try:\n",
        "            proba = pipe.predict_proba(X_test)[:, 1]\n",
        "            fpr, tpr, _ = roc_curve(y_test, proba)\n",
        "            plt.figure()\n",
        "            RocCurveDisplay(fpr=fpr, tpr=tpr).plot()\n",
        "            plt.title(f\"ROC Curve: {name}\")\n",
        "            safe_plot_save(os.path.join(OUTPUT_DIR, f\"roc_{name.replace(' ', '_').lower()}.png\"))\n",
        "        except Exception:\n",
        "            pass\n",
        "\n",
        "    # ROC-AUC OvR (binary or multi-class)\n",
        "    if hasattr(pipe, \"predict_proba\"):\n",
        "        try:\n",
        "            prob = pipe.predict_proba(X_test)\n",
        "            if is_binary:\n",
        "                idx = 1 if prob.shape[1] > 1 else 0\n",
        "                row[\"roc_auc_ovr\"] = roc_auc_score(y_test, prob[:, idx])\n",
        "            else:\n",
        "                row[\"roc_auc_ovr\"] = roc_auc_score(y_test, prob, multi_class=\"ovr\")\n",
        "        except Exception:\n",
        "            pass\n",
        "\n",
        "\n",
        "    return row, pipe"
      ],
      "metadata": {
        "id": "cnZxHfyumAs6"
      },
      "execution_count": 128,
      "outputs": []
    },
    {
      "cell_type": "code",
      "source": [
        "metrics = []\n",
        "best_row = None\n",
        "best_pipe = None\n",
        "\n",
        "for name, model in models.items():\n",
        "    pipeline = Pipeline(steps=[(\"preprocess\", preprocessor), (\"model\", model)])\n",
        "    row, trained_pipe = evaluate_model(name, pipeline)\n",
        "    metrics.append(row)\n",
        "\n",
        "    if (best_row is None) or (row[\"f1_macro\"] > best_row[\"f1_macro\"]):\n",
        "        best_row = row\n",
        "        best_pipe = trained_pipe\n",
        "\n",
        "results = pd.DataFrame(metrics)\n",
        "print(results)"
      ],
      "metadata": {
        "colab": {
          "base_uri": "https://localhost:8080/"
        },
        "id": "8iDeKlDsm6Al",
        "outputId": "4f88785a-7c73-4a65-d331-d6cdf07ace6e"
      },
      "execution_count": 129,
      "outputs": [
        {
          "output_type": "stream",
          "name": "stdout",
          "text": [
            "                  model  accuracy  precision_macro  recall_macro  f1_macro  \\\n",
            "0   Logistic Regression  0.921546         0.920246      0.912050  0.915805   \n",
            "1         Random Forest  0.981265         0.981250      0.978870  0.980034   \n",
            "2  HistGradientBoosting  0.984778         0.986630      0.981089  0.983727   \n",
            "\n",
            "   roc_auc_ovr  \n",
            "0     0.974334  \n",
            "1     0.998143  \n",
            "2     0.999125  \n"
          ]
        }
      ]
    },
    {
      "cell_type": "code",
      "source": [
        "import os\n",
        "from IPython.display import Image\n",
        "\n",
        "# Show one saved image\n",
        "Image(filename=os.path.join(OUTPUT_DIR, \"cm_logistic_regression.png\"))"
      ],
      "metadata": {
        "colab": {
          "base_uri": "https://localhost:8080/",
          "height": 737
        },
        "id": "dvSvR-Kio7nv",
        "outputId": "d3b2c7ad-1d9f-4f58-a1c0-490b85825a34"
      },
      "execution_count": 133,
      "outputs": [
        {
          "output_type": "execute_result",
          "data": {
            "image/png": "[encoded data removed]",
            "text/plain": [
              "<IPython.core.display.Image object>"
            ]
          },
          "metadata": {},
          "execution_count": 133
        }
      ]
    },
    {
      "cell_type": "code",
      "source": [
        "from google.colab import output\n",
        "import IPython.display as display\n",
        "import pandas as pd\n"
      ],
      "metadata": {
        "id": "6ngGThGiqva5"
      },
      "execution_count": 136,
      "outputs": []
    },
    {
      "cell_type": "code",
      "source": [
        "# Example prediction function\n",
        "def predict_loan(data):\n",
        "    input_df = pd.DataFrame([data])\n",
        "    pred = best_pipe.predict(input_df)[0]\n",
        "    return \"✅ Loan Approved\" if pred == 1 else \"❌ Loan Rejected\"\n"
      ],
      "metadata": {
        "id": "Nh9WQMGiqy49"
      },
      "execution_count": 137,
      "outputs": []
    },
    {
      "cell_type": "code",
      "source": [
        "html_code = \"\"\"\n",
        "<h2>Loan Approval Prediction</h2>\n",
        "<form id=\"loanForm\">\n",
        "  Gender:\n",
        "  <select id=\"Gender\">\n",
        "    <option value=\"Male\">Male</option>\n",
        "    <option value=\"Female\">Female</option>\n",
        "  </select><br><br>\n",
        "\n",
        "  Married:\n",
        "  <select id=\"Married\">\n",
        "    <option value=\"Yes\">Yes</option>\n",
        "    <option value=\"No\">No</option>\n",
        "  </select><br><br>\n",
        "\n",
        "  Applicant Income: <input type=\"number\" id=\"ApplicantIncome\"><br><br>\n",
        "  Loan Amount: <input type=\"number\" id=\"LoanAmount\"><br><br>\n",
        "  Credit History:\n",
        "  <select id=\"Credit_History\">\n",
        "    <option value=\"1\">1</option>\n",
        "    <option value=\"0\">0</option>\n",
        "  </select><br><br>\n",
        "\n",
        "  <button type=\"button\" onclick=\"makePrediction()\">Predict</button>\n",
        "</form>\n",
        "\n",
        "<h3>Result: <span id=\"result\"></span></h3>\n",
        "\n",
        "<script>\n",
        "  async function makePrediction() {\n",
        "    let data = {\n",
        "      \"Gender\": document.getElementById(\"Gender\").value,\n",
        "      \"Married\": document.getElementById(\"Married\").value,\n",
        "      \"ApplicantIncome\": parseFloat(document.getElementById(\"ApplicantIncome\").value),\n",
        "      \"LoanAmount\": parseFloat(document.getElementById(\"LoanAmount\").value),\n",
        "      \"Credit_History\": parseInt(document.getElementById(\"Credit_History\").value)\n",
        "    };\n",
        "    let result = await google.colab.kernel.invokeFunction('notebook.predictLoan', [data], {});\n",
        "    document.getElementById(\"result\").innerText = result.data['text/plain'];\n",
        "  }\n",
        "</script>\n",
        "\"\"\"\n",
        "display.HTML(html_code)\n"
      ],
      "metadata": {
        "colab": {
          "base_uri": "https://localhost:8080/",
          "height": 307
        },
        "id": "0HG52IwXq1Pf",
        "outputId": "9d58d558-29a0-4d75-9c7b-46a6294fda79"
      },
      "execution_count": 138,
      "outputs": [
        {
          "output_type": "execute_result",
          "data": {
            "text/plain": [
              "<IPython.core.display.HTML object>"
            ],
            "text/html": [
              "\n",
              "<h2>Loan Approval Prediction</h2>\n",
              "<form id=\"loanForm\">\n",
              "  Gender: \n",
              "  <select id=\"Gender\">\n",
              "    <option value=\"Male\">Male</option>\n",
              "    <option value=\"Female\">Female</option>\n",
              "  </select><br><br>\n",
              "\n",
              "  Married: \n",
              "  <select id=\"Married\">\n",
              "    <option value=\"Yes\">Yes</option>\n",
              "    <option value=\"No\">No</option>\n",
              "  </select><br><br>\n",
              "\n",
              "  Applicant Income: <input type=\"number\" id=\"ApplicantIncome\"><br><br>\n",
              "  Loan Amount: <input type=\"number\" id=\"LoanAmount\"><br><br>\n",
              "  Credit History: \n",
              "  <select id=\"Credit_History\">\n",
              "    <option value=\"1\">1</option>\n",
              "    <option value=\"0\">0</option>\n",
              "  </select><br><br>\n",
              "\n",
              "  <button type=\"button\" onclick=\"makePrediction()\">Predict</button>\n",
              "</form>\n",
              "\n",
              "<h3>Result: <span id=\"result\"></span></h3>\n",
              "\n",
              "<script>\n",
              "  async function makePrediction() {\n",
              "    let data = {\n",
              "      \"Gender\": document.getElementById(\"Gender\").value,\n",
              "      \"Married\": document.getElementById(\"Married\").value,\n",
              "      \"ApplicantIncome\": parseFloat(document.getElementById(\"ApplicantIncome\").value),\n",
              "      \"LoanAmount\": parseFloat(document.getElementById(\"LoanAmount\").value),\n",
              "      \"Credit_History\": parseInt(document.getElementById(\"Credit_History\").value)\n",
              "    };\n",
              "    let result = await google.colab.kernel.invokeFunction('notebook.predictLoan', [data], {});\n",
              "    document.getElementById(\"result\").innerText = result.data['text/plain'];\n",
              "  }\n",
              "</script>\n"
            ]
          },
          "metadata": {},
          "execution_count": 138
        }
      ]
    },
    {
      "cell_type": "code",
      "source": [
        "def predictLoan(data):\n",
        "    return predict_loan(data)\n",
        "\n",
        "output.register_callback('notebook.predictLoan', predictLoan)\n"
      ],
      "metadata": {
        "id": "Uy5haT0Iq6dX"
      },
      "execution_count": 140,
      "outputs": []
    }
  ]
}